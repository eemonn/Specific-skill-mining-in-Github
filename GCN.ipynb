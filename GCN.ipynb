{
 "cells":[
  {
   "cell_type":"code",
   "source":[
    "import pandas as pd\n",
    "from tqdm import tqdm\n",
    "import json\n",
    "import os\n",
    "import umap\n",
    "import numpy as np\n",
    "import scipy.sparse as sp\n",
    "from sklearn.model_selection import train_test_split\n",
    "from sklearn.preprocessing import LabelBinarizer\n",
    "from sklearn.metrics import f1_score, roc_auc_score, average_precision_score, confusion_matrix\n",
    "\n",
    "\n",
    "import stellargraph as sg\n",
    "from stellargraph.mapper import FullBatchNodeGenerator\n",
    "from stellargraph.layer import GCN\n",
    "\n",
    "import warnings\n",
    "import tensorflow as tf\n",
    "from tensorflow.keras import backend as K\n",
    "from tensorflow.keras import activations, initializers, constraints, regularizers\n",
    "from tensorflow.keras.layers import Input, Layer, Lambda, Dropout, Reshape, Dense\n",
    "from tensorflow.keras.callbacks import EarlyStopping\n",
    "\n",
    "from tensorflow.keras import layers, optimizers, losses, metrics, Model\n",
    "import matplotlib.pyplot as plt\n",
    "import seaborn as sns\n",
    "%matplotlib inline"
   ],
   "execution_count":45,
   "outputs":[
    
   ],
   "metadata":{
    "datalore":{
     "node_id":"dmu0RKX5Agr3rf1cYU5oWY",
     "type":"CODE",
     "hide_input_from_viewers":false,
     "hide_output_from_viewers":false,
     "report_properties":{
      "rowId":"q17l6gjNlQ6kuaQqGKzaw0"
     }
    }
   }
  },
  {
   "cell_type":"code",
   "source":[
    "edges_path = '\/data\/notebook_files\/musae_git_edges.csv'\n",
    "targets_path = '\/data\/notebook_files\/musae_git_target.csv'\n",
    "features_path = '\/data\/notebook_files\/musae_git_features.json'"
   ],
   "execution_count":46,
   "outputs":[
    
   ],
   "metadata":{
    "datalore":{
     "node_id":"VeJS3iJLagLWmcIyIcv2Lq",
     "type":"CODE",
     "hide_input_from_viewers":false,
     "hide_output_from_viewers":false,
     "report_properties":{
      "rowId":"9g3tk7TBn1vRICh3xqnRUu"
     }
    }
   }
  },
  {
   "cell_type":"code",
   "source":[
    "# Read in edges\n",
    "edges = pd.read_csv(edges_path)\n",
    "edges.columns = ['source', 'target'] # renaming for StellarGraph compatibility\n",
    "display(edges.shape, edges.head())"
   ],
   "execution_count":47,
   "outputs":[
    
   ],
   "metadata":{
    "datalore":{
     "node_id":"1hVCL93O8PxITeqHIxa9DN",
     "type":"CODE",
     "hide_input_from_viewers":false,
     "hide_output_from_viewers":false,
     "report_properties":{
      "rowId":"Pzcp3lz0t9TN1Mg6DScmI7"
     }
    }
   }
  },
  {
   "cell_type":"code",
   "source":[
    "# Read in features\n",
    "with open(features_path) as json_data:\n",
    "    features = json.load(json_data)\n",
    "    \n",
    "max_feature = np.max([v for v_list in features.values() for v in v_list])\n",
    "features_matrix = np.zeros(shape = (len(list(features.keys())), max_feature+1))\n",
    "\n",
    "i = 0\n",
    "for k, vs in tqdm(features.items()):\n",
    "    for v in vs:\n",
    "        features_matrix[i, v] = 1\n",
    "    i+=1"
   ],
   "execution_count":48,
   "outputs":[
    
   ],
   "metadata":{
    "datalore":{
     "node_id":"DwwXDKUJMCzqeqZQnc435t",
     "type":"CODE",
     "hide_input_from_viewers":false,
     "hide_output_from_viewers":false,
     "report_properties":{
      "rowId":"zwQNmuBjaLLJn6WLoHdLnE"
     }
    }
   }
  },
  {
   "cell_type":"code",
   "source":[
    "node_features = pd.DataFrame(features_matrix, index = features.keys())\n",
    "display(node_features.shape, node_features.head())"
   ],
   "execution_count":49,
   "outputs":[
    
   ],
   "metadata":{
    "datalore":{
     "node_id":"SiYSSvwxPodtZvpsA84VMN",
     "type":"CODE",
     "hide_input_from_viewers":false,
     "hide_output_from_viewers":false,
     "report_properties":{
      "rowId":"HYkReOqqdCEzGMTOaCFjIM"
     }
    }
   }
  },
  {
   "cell_type":"code",
   "source":[
    "# Read in targets\n",
    "targets = pd.read_csv(targets_path)\n",
    "targets.index = targets.id.astype(str)\n",
    "targets = targets.loc[features.keys(), :]\n",
    "display(targets.shape, targets.head(), targets.ml_target.value_counts(normalize=True))"
   ],
   "execution_count":50,
   "outputs":[
    
   ],
   "metadata":{
    "datalore":{
     "node_id":"pUyUYqzMFZOzzoHE3Ue0AP",
     "type":"CODE",
     "hide_input_from_viewers":false,
     "hide_output_from_viewers":false,
     "report_properties":{
      "rowId":"uCOgQliUq37RCmWRHhL7OI"
     }
    }
   }
  },
  {
   "cell_type":"code",
   "source":[
    "G = sg.StellarGraph(node_features, edges.astype(str))"
   ],
   "execution_count":51,
   "outputs":[
    
   ],
   "metadata":{
    "datalore":{
     "node_id":"7HFUUr6CQsSM3lZuPm2f02",
     "type":"CODE",
     "hide_input_from_viewers":false,
     "hide_output_from_viewers":false,
     "report_properties":{
      "rowId":"ekszdBSMyuGOxBDj02MSGW"
     }
    }
   }
  },
  {
   "cell_type":"code",
   "source":[
    "print(G.info())"
   ],
   "execution_count":52,
   "outputs":[
    
   ],
   "metadata":{
    "datalore":{
     "node_id":"ycbi1Sc5yGCtIiLKdzaVd4",
     "type":"CODE",
     "hide_input_from_viewers":false,
     "hide_output_from_viewers":false,
     "report_properties":{
      "rowId":"wmwTxjIlzINWAfaeOsKGGy"
     }
    }
   }
  },
  {
   "cell_type":"code",
   "source":[
    "train_pages, test_pages = train_test_split(targets, train_size=400)\n",
    "val_pages, test_pages = train_test_split(test_pages, train_size=400)"
   ],
   "execution_count":53,
   "outputs":[
    
   ],
   "metadata":{
    "datalore":{
     "node_id":"gGwEAGp10WheeZZh133FVl",
     "type":"CODE",
     "hide_input_from_viewers":false,
     "hide_output_from_viewers":false,
     "report_properties":{
      "rowId":"X0nIvSoFjy1VlDyKsvZiqW"
     }
    }
   }
  },
  {
   "cell_type":"code",
   "source":[
    "train_pages.shape, val_pages.shape, test_pages.shape"
   ],
   "execution_count":54,
   "outputs":[
    
   ],
   "metadata":{
    "datalore":{
     "node_id":"YpqP2XssOKrP1XVKiqoEcO",
     "type":"CODE",
     "hide_input_from_viewers":false,
     "hide_output_from_viewers":false,
     "report_properties":{
      "rowId":"UuLOMu1r3dTbEVB54yTQgu"
     }
    }
   }
  },
  {
   "cell_type":"code",
   "source":[
    "target_encoding = LabelBinarizer()\n",
    "\n",
    "train_targets = target_encoding.fit_transform(train_pages['ml_target'])\n",
    "val_targets = target_encoding.transform(val_pages['ml_target'])\n",
    "test_targets = target_encoding.transform(test_pages['ml_target'])"
   ],
   "execution_count":55,
   "outputs":[
    
   ],
   "metadata":{
    "datalore":{
     "node_id":"jgCBmibXu8h8phn7apBVBE",
     "type":"CODE",
     "hide_input_from_viewers":false,
     "hide_output_from_viewers":false,
     "report_properties":{
      "rowId":"AVOlvc9dePhbD7XZ2hy31s"
     }
    }
   }
  },
  {
   "cell_type":"code",
   "source":[
    "# Get the adjacency matrix\n",
    "A = G.to_adjacency_matrix(weighted=False)\n",
    "\n",
    "# Add self-connections\n",
    "A_t = A + sp.diags(np.ones(A.shape[0]) - A.diagonal())\n",
    "\n",
    "# Degree matrix to the power of -1\/2\n",
    "D_t = sp.diags(np.power(np.array(A.sum(1)), -0.5).flatten(), 0)\n",
    "\n",
    "# Normalise the Adjacency matrix\n",
    "A_norm = A.dot(D_t).transpose().dot(D_t).todense()"
   ],
   "execution_count":56,
   "outputs":[
    
   ],
   "metadata":{
    "datalore":{
     "node_id":"2wA1xSOmqwmwoez7xSiorW",
     "type":"CODE",
     "hide_input_from_viewers":false,
     "hide_output_from_viewers":false,
     "report_properties":{
      "rowId":"AfYcN9qqn3FDK39Vuhaq8S"
     }
    }
   }
  },
  {
   "cell_type":"code",
   "source":[
    "# Define the function to get these indices\n",
    "def get_node_indices(G, ids):\n",
    "    # find the indices of the nodes\n",
    "    node_ids = np.asarray(ids)\n",
    "    flat_node_ids = node_ids.reshape(-1)\n",
    "\n",
    "    flat_node_indices = G.node_ids_to_ilocs(flat_node_ids) # in-built function makes it really easy\n",
    "    # back to the original shape\n",
    "    node_indices = flat_node_indices.reshape(1, len(node_ids)) # add 1 extra dimension\n",
    "    \n",
    "    return node_indices\n",
    "\n",
    "train_indices = get_node_indices(G, train_pages.index)\n",
    "val_indices = get_node_indices(G, val_pages.index)\n",
    "test_indices = get_node_indices(G, test_pages.index)"
   ],
   "execution_count":57,
   "outputs":[
    
   ],
   "metadata":{
    "datalore":{
     "node_id":"EJ0CZ45OA67gWiCNHXEAAU",
     "type":"CODE",
     "hide_input_from_viewers":false,
     "hide_output_from_viewers":false,
     "report_properties":{
      "rowId":"ZervXBK0wUvaOCndfWwNig"
     }
    }
   }
  },
  {
   "cell_type":"code",
   "source":[
    "# Expand dimensions\n",
    "features_input = np.expand_dims(features_matrix, 0)\n",
    "A_input = np.expand_dims(A_norm, 0)\n",
    "\n",
    "y_train = np.expand_dims(train_targets, 0)\n",
    "y_val = np.expand_dims(val_targets, 0)\n",
    "y_test = np.expand_dims(test_targets, 0)"
   ],
   "execution_count":58,
   "outputs":[
    
   ],
   "metadata":{
    "datalore":{
     "node_id":"eyq6Z5Q21qfOoXB1WjDaQk",
     "type":"CODE",
     "hide_input_from_viewers":false,
     "hide_output_from_viewers":false,
     "report_properties":{
      "rowId":"D1OB20QUC5gvutxh9HNefg"
     }
    }
   }
  },
  {
   "cell_type":"code",
   "source":[
    "from stellargraph.layer.gcn import GraphConvolution, GatherIndices"
   ],
   "execution_count":59,
   "outputs":[
    
   ],
   "metadata":{
    "datalore":{
     "node_id":"cvMnbjfgPtmUuXEEfMgQFh",
     "type":"CODE",
     "hide_input_from_viewers":false,
     "hide_output_from_viewers":false,
     "report_properties":{
      "rowId":"2P6josNcXf8OtIDu6b9QZv"
     }
    }
   }
  },
  {
   "cell_type":"code",
   "source":[
    "# Initialise GCN parameters\n",
    "kernel_initializer=\"glorot_uniform\"\n",
    "bias = True\n",
    "bias_initializer=\"zeros\"\n",
    "n_layers = 2\n",
    "layer_sizes = [32, 32]\n",
    "dropout = 0.5\n",
    "n_features = features_input.shape[2]\n",
    "n_nodes = features_input.shape[1]"
   ],
   "execution_count":60,
   "outputs":[
    
   ],
   "metadata":{
    "datalore":{
     "node_id":"VNHudWoDLZrMTvL8VnJnC4",
     "type":"CODE",
     "hide_input_from_viewers":false,
     "hide_output_from_viewers":false,
     "report_properties":{
      "rowId":"QxoIUdFTpajXLjkiNoPNzN"
     }
    }
   }
  },
  {
   "cell_type":"code",
   "source":[
    "x_features = Input(batch_shape=(1, n_nodes, n_features))\n",
    "x_indices = Input(batch_shape=(1, None), dtype=\"int32\")\n",
    "x_adjacency = Input(batch_shape=(1, n_nodes, n_nodes))\n",
    "x_inp = [x_features, x_indices, x_adjacency]\n",
    "x_inp"
   ],
   "execution_count":61,
   "outputs":[
    
   ],
   "metadata":{
    "datalore":{
     "node_id":"GtOeoEeyHJcIbhNKvprUv4",
     "type":"CODE",
     "hide_input_from_viewers":false,
     "hide_output_from_viewers":false,
     "report_properties":{
      "rowId":"2XeOTNTLlaWAYgvAR1lwV3"
     }
    }
   }
  },
  {
   "cell_type":"code",
   "source":[
    "x = Dropout(0.5)(x_features)\n",
    "x = GraphConvolution(32, activation='relu', \n",
    "                     use_bias=True,\n",
    "                     kernel_initializer=kernel_initializer,\n",
    "                     bias_initializer=bias_initializer)([x, x_adjacency])\n",
    "x = Dropout(0.5)(x)\n",
    "x = GraphConvolution(32, activation='relu', \n",
    "                     use_bias=True,\n",
    "                     kernel_initializer=kernel_initializer,\n",
    "                     bias_initializer=bias_initializer)([x, x_adjacency])\n",
    "\n",
    "x = GatherIndices(batch_dims=1)([x, x_indices])\n",
    "output = Dense(1, activation='sigmoid')(x)"
   ],
   "execution_count":62,
   "outputs":[
    
   ],
   "metadata":{
    "datalore":{
     "node_id":"0pBdtDT4rqTrJoxhpZQPKo",
     "type":"CODE",
     "hide_input_from_viewers":false,
     "hide_output_from_viewers":false,
     "report_properties":{
      "rowId":"ayB0QxK7ASeankkFBV9MOQ"
     }
    }
   }
  },
  {
   "cell_type":"code",
   "source":[
    "model = Model(inputs=[x_features, x_indices, x_adjacency], outputs=output)\n",
    "model.summary()"
   ],
   "execution_count":63,
   "outputs":[
    
   ],
   "metadata":{
    "datalore":{
     "node_id":"Vhr9aAs7jYPiFlbXty8uhi",
     "type":"CODE",
     "hide_input_from_viewers":false,
     "hide_output_from_viewers":false,
     "report_properties":{
      "rowId":"6vWEXfnB6TdD2FWz4DT7ps"
     }
    }
   }
  },
  {
   "cell_type":"code",
   "source":[
    "model.compile(\n",
    "    optimizer=tf.keras.optimizers.legacy.Adam(learning_rate=0.01),\n",
    "    loss=losses.binary_crossentropy,\n",
    "    metrics=[\"acc\"],\n",
    ")"
   ],
   "execution_count":64,
   "outputs":[
    
   ],
   "metadata":{
    "datalore":{
     "node_id":"6LlomXzuj2n9lCX0vwEniq",
     "type":"CODE",
     "hide_input_from_viewers":false,
     "hide_output_from_viewers":false,
     "report_properties":{
      "rowId":"PhhPOftHiPLqaxkHjtqJvU"
     }
    }
   }
  },
  {
   "cell_type":"code",
   "source":[
    "es_callback = EarlyStopping(monitor=\"val_loss\", patience=10, restore_best_weights=True)"
   ],
   "execution_count":65,
   "outputs":[
    
   ],
   "metadata":{
    "datalore":{
     "node_id":"nQHYCaxc8dYAqJwVroaRxC",
     "type":"CODE",
     "hide_input_from_viewers":false,
     "hide_output_from_viewers":false,
     "report_properties":{
      "rowId":"8nypCGFyvY34c6pnRmMdUV"
     }
    }
   }
  },
  {
   "cell_type":"code",
   "source":[
    "history = model.fit(\n",
    "    x = [features_input, train_indices, A_input],\n",
    "    y = y_train,\n",
    "    batch_size = 32,\n",
    "    epochs=100,\n",
    "    validation_data=([features_input, val_indices, A_input], y_val),\n",
    "    verbose=1,\n",
    "    shuffle=False,\n",
    "    callbacks=[es_callback],\n",
    ")"
   ],
   "execution_count":66,
   "outputs":[
    
   ],
   "metadata":{
    "datalore":{
     "node_id":"AdFGk3MDZxt6HMjB5EVxwN",
     "type":"CODE",
     "hide_input_from_viewers":false,
     "hide_output_from_viewers":false,
     "report_properties":{
      "rowId":"0IG4cqT2LLgGmPmqTaLwwz"
     }
    }
   }
  },
  {
   "cell_type":"code",
   "source":[
    "test_preds = model.predict([features_input, test_indices, A_input])"
   ],
   "execution_count":23,
   "outputs":[
    
   ],
   "metadata":{
    "datalore":{
     "node_id":"PCfqlFNbcsMK8CfhKurCwo",
     "type":"CODE",
     "hide_input_from_viewers":false,
     "hide_output_from_viewers":false,
     "report_properties":{
      "rowId":"nLrDoZG8xXcBAfRi7H7CQN"
     }
    }
   }
  },
  {
   "cell_type":"code",
   "source":[
    "embedding_model = Model(inputs=x_inp, outputs=model.layers[-2].output)\n",
    "all_indices = get_node_indices(G, targets.index)\n",
    "emb = embedding_model.predict([features_input, all_indices, A_input])\n",
    "emb.shape"
   ],
   "execution_count":67,
   "outputs":[
    
   ],
   "metadata":{
    "datalore":{
     "node_id":"jyRF50lwQqxnSCLd6x1Czq",
     "type":"CODE",
     "hide_input_from_viewers":false,
     "hide_output_from_viewers":false,
     "report_properties":{
      "rowId":"nTNyjTw6XReMbRI5a1MjKh"
     }
    }
   }
  },
  {
   "cell_type":"code",
   "source":[
    "\n",
    "u = umap.UMAP(random_state=42)\n",
    "umap_embs = u.fit_transform(emb[0])"
   ],
   "execution_count":34,
   "outputs":[
    
   ],
   "metadata":{
    "datalore":{
     "node_id":"Fwn3cMcc4VEcutqeGDuQXa",
     "type":"CODE",
     "hide_input_from_viewers":false,
     "hide_output_from_viewers":false,
     "report_properties":{
      "rowId":"YPkUxmCMTRJyzwxYj0m3u0"
     }
    }
   }
  },
  {
   "cell_type":"code",
   "source":[
    "plt.figure(figsize=(30,10))\n",
    "ax = sns.scatterplot(x = umap_embs[:, 0], y = umap_embs[:, 1], hue = targets['ml_target'])"
   ],
   "execution_count":27,
   "outputs":[
    
   ],
   "metadata":{
    "datalore":{
     "node_id":"MAUyvHPpK9Xgs9EjV4loLu",
     "type":"CODE",
     "hide_input_from_viewers":false,
     "hide_output_from_viewers":false,
     "report_properties":{
      "rowId":"RjaYaSA8uzUFsYczuBiYzP"
     }
    }
   }
  }
 ],
 "metadata":{
  "kernelspec":{
   "display_name":"Python",
   "language":"python",
   "name":"python"
  },
  "datalore":{
   "computation_mode":"JUPYTER",
   "package_manager":"pip",
   "base_environment":"default",
   "packages":[
    {
     "name":"umap",
     "version":"0.1.1",
     "source":"PIP"
    },
    {
     "name":"stellargraph",
     "version":"1.2.1",
     "source":"PIP"
    },
    {
     "name":"chardet",
     "version":"5.1.0",
     "source":"PIP"
    }
   ],
   "report_row_ids":[
    "q17l6gjNlQ6kuaQqGKzaw0",
    "W3pVpxUtgI3cKoVL1VF3RR",
    "Ec6XFjZ5rWZ1wmcfe8ceOg",
    "Be41vKUuzCrH7RsuK2A0bp",
    "1gT61JBVbKmb8ddyvviOsU",
    "dpflXNZSZJUkW4yvPG3LPT",
    "okZCMQC4e9Ewzy81VXgEdv",
    "z0hUajbswHPSeY6D4wdIJL",
    "9g3tk7TBn1vRICh3xqnRUu",
    "Pzcp3lz0t9TN1Mg6DScmI7",
    "zwQNmuBjaLLJn6WLoHdLnE",
    "HYkReOqqdCEzGMTOaCFjIM",
    "uCOgQliUq37RCmWRHhL7OI",
    "NOnOKODu8ufpcDMLjTdJ7W",
    "B3VooKyjSLLasoJVolEXbS",
    "FRWlQJMQk9tMFciethfbmJ",
    "ekszdBSMyuGOxBDj02MSGW",
    "wmwTxjIlzINWAfaeOsKGGy",
    "7zcA5RN0LYyYTVgomtskCH",
    "TKyDASHBjr7vk7GT32Y743",
    "X0nIvSoFjy1VlDyKsvZiqW",
    "UuLOMu1r3dTbEVB54yTQgu",
    "M1Z0WaVscYMvfXiKgCFXtD",
    "8jjDYXBzGIFL26xjHEIMqH",
    "AVOlvc9dePhbD7XZ2hy31s",
    "eexfv6555SipbJh5iREBJI",
    "UFtWrOwoA91aT8PzAFDEDq",
    "5EGaZKiQF1sp6r2NZYHmk8",
    "FP71tyNj5pUZoUrEzRnRBD",
    "phGNd1x5GIzB7X9EKuchO4",
    "v9tmagMOZmop4R8rAFC2gL",
    "TKCFgRkiKqR8kWCyz0GPQZ",
    "AfYcN9qqn3FDK39Vuhaq8S",
    "XcBf8XWVxfEAeJ3cOVa70s",
    "ZervXBK0wUvaOCndfWwNig",
    "D1OB20QUC5gvutxh9HNefg",
    "XzB5Pz6VC7WQvHWWsBPOOQ",
    "elf0bB4jsqA1NwwIFYKI5F",
    "Xm22137Rf8r9qbv4SeHKpH",
    "2P6josNcXf8OtIDu6b9QZv",
    "QxoIUdFTpajXLjkiNoPNzN",
    "uS0JVAw24QlORDa6S8jWM3",
    "2XeOTNTLlaWAYgvAR1lwV3",
    "1dW8uXS3MEvP1PDbjqvXfv",
    "ayB0QxK7ASeankkFBV9MOQ",
    "6vWEXfnB6TdD2FWz4DT7ps",
    "PhhPOftHiPLqaxkHjtqJvU",
    "8nypCGFyvY34c6pnRmMdUV",
    "0IG4cqT2LLgGmPmqTaLwwz",
    "syxQ4nUMf0cUdduVCJYoAc",
    "nLrDoZG8xXcBAfRi7H7CQN",
    "dS05MNmK7CT3VGbjZI7O0K",
    "Q3GHaGFJyCMlMRAYibY3Cl",
    "1pv94ZRlcFMtvz5qe1AhAv",
    "nTNyjTw6XReMbRI5a1MjKh",
    "YPkUxmCMTRJyzwxYj0m3u0",
    "RjaYaSA8uzUFsYczuBiYzP",
    "kKILQcusAOoKdFpw4pQ2yl",
    "LfOLL3e3lIf3LKT1ihmL8D",
    "oBJ31VsI64VqJAl2LqStwy",
    "oZ3xE3kRdfDgbJJY91IBMM",
    "TeTJb7jpzwQClfuolrKml8",
    "u4olzfMj9UuK5pZmaWWRqs",
    "APVcdjWougABXfG8vXxMjg",
    "7z3iJ4bGqrEMxUWGJ0HKjV",
    "kf483zNAJSlNDMPqEdpeVI",
    "xIlbOk0FkeCLdYYvirOg3Y",
    "3xcH5LqFYhqFS3SrSD3nAf",
    "rYAqQBOjOnkWIrnMuPz8Va",
    "xdsvunCwoLKn5y9PZo4eJO",
    "xvJQE0Y5NyLD2LPOq0qf9G",
    "ssUbi9dl7HapI6YrNL62az",
    "J1ArKG6cD0EzHgFJJW6rTr",
    "yAfwQrkOQzE42hHIzKXp7d",
    "GciriYVKLQWwzcZon6k0ae",
    "3MRa1Lzcf293QCECoqDXhr",
    "D1bjHW9Io1wnHa9Jcp4jun",
    "K0N53omuE82WnR5TRVAJKY",
    "u2YXs7Fm1VNCDnQaHWFwiD"
   ],
   "version":3
  }
 },
 "nbformat":4,
 "nbformat_minor":4
}